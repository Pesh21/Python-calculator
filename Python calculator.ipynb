{
 "cells": [
  {
   "cell_type": "code",
   "execution_count": 1,
   "id": "d09c60bb-e2f4-4eed-b11c-a28e22081717",
   "metadata": {},
   "outputs": [
    {
     "name": "stdin",
     "output_type": "stream",
     "text": [
      "Enter an operator (+ - * /):  *\n",
      "Enter the 1st number:  20\n",
      "Enter the 2nd number:  40\n"
     ]
    },
    {
     "name": "stdout",
     "output_type": "stream",
     "text": [
      "800.0\n"
     ]
    }
   ],
   "source": [
    "operator = input(\"Enter an operator (+ - * /): \")\n",
    "num1 = float(input(\"Enter the 1st number: \"))\n",
    "num2 = float(input(\"Enter the 2nd number: \"))\n",
    "\n",
    "if operator == \"+\":\n",
    "   result = num1 + num2\n",
    "   print(round(result, 3))\n",
    "elif operator == \"-\":\n",
    "   result = num1 - num2\n",
    "   print(round(result, 3))\n",
    "elif operator == \"*\":\n",
    "   result = num1 * num2\n",
    "   print(round(result, 3))\n",
    "elif operator == \"/\":\n",
    "   result = num1 / num2\n",
    "   print(round(result, 3))\n",
    "else:\n",
    "   print(f\"{operator} is not a valid operator\")"
   ]
  },
  {
   "cell_type": "code",
   "execution_count": null,
   "id": "42577add-f1fc-4112-86a3-676625a21370",
   "metadata": {},
   "outputs": [],
   "source": []
  },
  {
   "cell_type": "code",
   "execution_count": null,
   "id": "dd2cff48-ff0f-4fa0-81f2-572f3244f5e3",
   "metadata": {},
   "outputs": [],
   "source": []
  },
  {
   "cell_type": "code",
   "execution_count": null,
   "id": "d259aa7f-8d38-440b-9305-7854146e13ee",
   "metadata": {},
   "outputs": [],
   "source": []
  }
 ],
 "metadata": {
  "kernelspec": {
   "display_name": "Python 3 (ipykernel)",
   "language": "python",
   "name": "python3"
  },
  "language_info": {
   "codemirror_mode": {
    "name": "ipython",
    "version": 3
   },
   "file_extension": ".py",
   "mimetype": "text/x-python",
   "name": "python",
   "nbconvert_exporter": "python",
   "pygments_lexer": "ipython3",
   "version": "3.12.4"
  }
 },
 "nbformat": 4,
 "nbformat_minor": 5
}
