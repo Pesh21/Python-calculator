{
 "cells": [
  {
   "cell_type": "code",
   "execution_count": 68,
   "id": "988dbe13-e622-4822-9afe-0be57b336a63",
   "metadata": {},
   "outputs": [
    {
     "name": "stdout",
     "output_type": "stream",
     "text": [
      "1 addition\n",
      "2 subtraction\n",
      "3 multiplication\n",
      "4 division\n",
      "Enter E or e to Exit\n"
     ]
    },
    {
     "name": "stdin",
     "output_type": "stream",
     "text": [
      "Enter your selection:  4\n",
      "Enter value1:  34\n",
      "Enter value2:  7\n"
     ]
    },
    {
     "name": "stdout",
     "output_type": "stream",
     "text": [
      "34 / 7 = 4.86\n",
      "\n",
      "1 addition\n",
      "2 subtraction\n",
      "3 multiplication\n",
      "4 division\n",
      "Enter E or e to Exit\n"
     ]
    },
    {
     "name": "stdin",
     "output_type": "stream",
     "text": [
      "Enter your selection:  e\n",
      "do you want to continue with the program?:yes/no yes\n"
     ]
    },
    {
     "name": "stdout",
     "output_type": "stream",
     "text": [
      "1 addition\n",
      "2 subtraction\n",
      "3 multiplication\n",
      "4 division\n",
      "Enter E or e to Exit\n"
     ]
    },
    {
     "name": "stdin",
     "output_type": "stream",
     "text": [
      "Enter your selection:  E\n",
      "do you want to continue with the program?:yes/no NO\n"
     ]
    },
    {
     "name": "stdout",
     "output_type": "stream",
     "text": [
      "Bye!Have a good day\n"
     ]
    }
   ],
   "source": [
    "def Calculator():\n",
    "    while True:\n",
    "        print(\"1 addition\")\n",
    "        print(\"2 subtraction\")\n",
    "        print(\"3 multiplication\")\n",
    "        print(\"4 division\")\n",
    "        print(\"Enter E or e to Exit\")\n",
    "        \n",
    "        Choice = input(\"Enter your selection: \")\n",
    "    \n",
    "        if Choice == \"E\" or Choice == \"e\":\n",
    "            break\n",
    "    \n",
    "        Val1 = int(input(\"Enter value1: \"))\n",
    "        Val2 = int(input(\"Enter value2: \"))\n",
    "    \n",
    "        if Choice == \"1\":\n",
    "            print(Val1, \"+\", Val2, \"=\", (Val1 + Val2))\n",
    "    \n",
    "        elif Choice == \"2\":\n",
    "            print(Val1, \"-\", Val2, \"=\", (Val1 - Val2))\n",
    "    \n",
    "        elif Choice == \"3\":\n",
    "            print(Val1, \"*\", Val2, \"=\", (Val1 * Val2))\n",
    "    \n",
    "        elif Choice == \"4\":\n",
    "            if Val2 == 0:\n",
    "                print(\"Divide by 0 error\")\n",
    "            else:\n",
    "                print(Val1, \"/\", Val2, \"=\", round(Val1 / Val2, 2))\n",
    "    \n",
    "        else:\n",
    "            print(\"Invalid Selection\")\n",
    "    \n",
    "        print() \n",
    "         \n",
    "while True:\n",
    "    Calculator()\n",
    "    Restart=input(\"Do you want to continue with the program?:yes/no\")\n",
    "    if Restart.lower() !=(\"yes\"):\n",
    "        print(\"Bye!Have a good day\")\n",
    "        break\n",
    "  \n",
    "\n",
    "             \n",
    "      "
   ]
  },
  {
   "cell_type": "code",
   "execution_count": null,
   "id": "ce336e78-61c4-48a2-8886-58087c76d453",
   "metadata": {},
   "outputs": [],
   "source": []
  }
 ],
 "metadata": {
  "kernelspec": {
   "display_name": "Python 3 (ipykernel)",
   "language": "python",
   "name": "python3"
  },
  "language_info": {
   "codemirror_mode": {
    "name": "ipython",
    "version": 3
   },
   "file_extension": ".py",
   "mimetype": "text/x-python",
   "name": "python",
   "nbconvert_exporter": "python",
   "pygments_lexer": "ipython3",
   "version": "3.12.4"
  }
 },
 "nbformat": 4,
 "nbformat_minor": 5
}
